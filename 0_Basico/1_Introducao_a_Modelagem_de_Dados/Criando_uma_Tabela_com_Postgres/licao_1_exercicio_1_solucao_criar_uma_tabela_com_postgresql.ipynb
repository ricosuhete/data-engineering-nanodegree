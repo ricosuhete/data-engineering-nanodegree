{
 "cells": [
  {
   "cell_type": "markdown",
   "metadata": {},
   "source": [
    "# Lição 1 Execício 1: Criando uma tabela com PostgreSQL\n"
   ]
  },
  {
   "cell_type": "code",
   "execution_count": 1,
   "metadata": {},
   "outputs": [],
   "source": [
    "import psycopg2"
   ]
  },
  {
   "cell_type": "markdown",
   "metadata": {},
   "source": [
    "### Criando conexão com o banco de dados"
   ]
  },
  {
   "cell_type": "code",
   "execution_count": 2,
   "metadata": {},
   "outputs": [],
   "source": [
    "try: \n",
    "    conn = psycopg2.connect(\"host=127.0.0.1 dbname=studentdb user=postgres password=1234\")\n",
    "except psycopg2.Error as e: \n",
    "    print(\"Error: Não foi possível se conectar ao bando de dados Postgres\")\n",
    "    print(e)"
   ]
  },
  {
   "cell_type": "markdown",
   "metadata": {},
   "source": [
    "### Use a conexão para obter um cursor que pode ser usado para executar consultas."
   ]
  },
  {
   "cell_type": "code",
   "execution_count": 3,
   "metadata": {},
   "outputs": [],
   "source": [
    "try: \n",
    "    cur = conn.cursor()\n",
    "except psycopg2.Error as e: \n",
    "    print(\"Error: Não foi possível colocar o cursor no banco de dados\")\n",
    "    print(e)"
   ]
  },
  {
   "cell_type": "markdown",
   "metadata": {},
   "source": [
    "### Defina a confirmação automática como verdadeira para que cada ação seja confirmada sem precisar chamar `conn.commit()` após cada comando"
   ]
  },
  {
   "cell_type": "code",
   "execution_count": 4,
   "metadata": {},
   "outputs": [],
   "source": [
    "conn.set_session(autocommit=True)"
   ]
  },
  {
   "cell_type": "markdown",
   "metadata": {},
   "source": [
    "### Crie um banco de dados para fazer o trabalho. "
   ]
  },
  {
   "cell_type": "code",
   "execution_count": 5,
   "metadata": {},
   "outputs": [],
   "source": [
    "## Adicione o nome do banco de dados na instrução CREATE DATABASE.\n",
    "try: \n",
    "    cur.execute(\"create database exercicio_postg\")\n",
    "except psycopg2.Error as e:\n",
    "    print(e)"
   ]
  },
  {
   "cell_type": "markdown",
   "metadata": {},
   "source": [
    "#### Adicione o nome do banco de dados na instrução connect. Vamos fechar nossa conexão com o banco de dados padrão, reconectar ao banco de dados `exercicio_postg` e obter um novo cursor. "
   ]
  },
  {
   "cell_type": "code",
   "execution_count": 7,
   "metadata": {},
   "outputs": [],
   "source": [
    "try: \n",
    "    conn.close()\n",
    "except psycopg2.Error as e:\n",
    "    print(e)\n",
    "    \n",
    "try: \n",
    "    conn = psycopg2.connect(\"host=localhost port=5432 dbname=exercicio_postg user=postgres password=1234\")\n",
    "except psycopg2.Error as e: \n",
    "    print(\"Error: Não foi possível se conectar ao bando de dados Postgres\")\n",
    "    print(e)\n",
    "    \n",
    "try: \n",
    "    cur = conn.cursor()\n",
    "except psycopg2.Error as e: \n",
    "    print(\"Não foi possível colocar o cursor no banco de dados\")\n",
    "    print(e)\n",
    "\n",
    "conn.set_session(autocommit=True)"
   ]
  },
  {
   "cell_type": "markdown",
   "metadata": {},
   "source": [
    "### Crie uma Biblioteca de músicas que contenha uma lista de músicas, incluindo o nome da música, o nome do artista, o ano, o álbum de onde foi e se foi um single. \n",
    "\n",
    "`song title\n",
    "artist\n",
    "year\n",
    "album\n",
    "single`\n"
   ]
  },
  {
   "cell_type": "code",
   "execution_count": 8,
   "metadata": {},
   "outputs": [],
   "source": [
    "try: \n",
    "    cur.execute(\"CREATE TABLE IF NOT EXISTS songs (song_title varchar, artist_name varchar, year int, album_name varchar, single Boolean);\")\n",
    "except psycopg2.Error as e: \n",
    "    print(\"Error: Problema ao Criar Tabela\")\n",
    "    print (e)"
   ]
  },
  {
   "cell_type": "markdown",
   "metadata": {},
   "source": [
    "###  Insira as duas linhas a seguir na tabela\n",
    "`Primeira Linha:  \"Across The Universe\", \"The Beatles\", \"1970\", \"False\", \"Let It Be\"`\n",
    "\n",
    "`Segunda Linha: \"The Beatles\", \"Think For Yourself\", \"False\", \"1965\", \"Rubber Soul\"`"
   ]
  },
  {
   "cell_type": "code",
   "execution_count": 9,
   "metadata": {},
   "outputs": [],
   "source": [
    "try: \n",
    "    cur.execute(\"INSERT INTO songs (song_title, artist_name, year, album_name, single) \\\n",
    "                 VALUES (%s, %s, %s, %s, %s)\", \\\n",
    "                 (\"Across The Universe\", \"The Beatles\", 1970, \"Let It Be\", False))\n",
    "except psycopg2.Error as e: \n",
    "    print(\"Error: Ao Inserir Linha\")\n",
    "    print (e)\n",
    "    \n",
    "try: \n",
    "    cur.execute(\"INSERT INTO songs (song_title, artist_name, year, album_name, single) \\\n",
    "                  VALUES (%s, %s, %s, %s, %s)\",\n",
    "                  (\"Think For Yourself\", \"The Beatles\", 1965, \"Rubber Soul\", False))\n",
    "except psycopg2.Error as e: \n",
    "    print(\"Error: Ao Inserir Linha\")\n",
    "    print (e)"
   ]
  },
  {
   "cell_type": "markdown",
   "metadata": {},
   "source": [
    "###  Valide se seus dados foram inseridos na tabela.\n"
   ]
  },
  {
   "cell_type": "code",
   "execution_count": 10,
   "metadata": {},
   "outputs": [
    {
     "name": "stdout",
     "output_type": "stream",
     "text": [
      "('Across The Universe', 'The Beatles', 1970, 'Let It Be', False)\n",
      "('Think For Yourself', 'The Beatles', 1965, 'Rubber Soul', False)\n"
     ]
    }
   ],
   "source": [
    "try: \n",
    "    cur.execute(\"SELECT * FROM songs;\")\n",
    "except psycopg2.Error as e: \n",
    "    print(\"Error: select *\")\n",
    "    print (e)\n",
    "\n",
    "row = cur.fetchone()\n",
    "while row:\n",
    "   print(row)\n",
    "   row = cur.fetchone()"
   ]
  },
  {
   "cell_type": "markdown",
   "metadata": {},
   "source": [
    "### E, finalmente, feche o cursor e a conexão."
   ]
  },
  {
   "cell_type": "code",
   "execution_count": 11,
   "metadata": {},
   "outputs": [],
   "source": [
    "cur.close()\n",
    "conn.close()"
   ]
  }
 ],
 "metadata": {
  "kernelspec": {
   "display_name": "Python 3 (ipykernel)",
   "language": "python",
   "name": "python3"
  },
  "language_info": {
   "codemirror_mode": {
    "name": "ipython",
    "version": 3
   },
   "file_extension": ".py",
   "mimetype": "text/x-python",
   "name": "python",
   "nbconvert_exporter": "python",
   "pygments_lexer": "ipython3",
   "version": "3.9.7"
  }
 },
 "nbformat": 4,
 "nbformat_minor": 2
}
